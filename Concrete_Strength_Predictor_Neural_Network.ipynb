{
 "cells": [
  {
   "cell_type": "markdown",
   "metadata": {},
   "source": [
    "## Objectives  \n",
    "* Download and clean the data set\n",
    "* Build a neural network\n",
    "* Train and test the network     "
   ]
  },
  {
   "cell_type": "code",
   "execution_count": 2,
   "metadata": {},
   "outputs": [],
   "source": [
    "# !pip install numpy==2.0.2\n",
    "# !pip install pandas==2.2.2\n",
    "# !pip install tensorflow_cpu==2.18.0\n"
   ]
  },
  {
   "cell_type": "markdown",
   "metadata": {},
   "source": [
    "#### To use Keras, we will also need to install a backend framework – such as TensorFlow.\n",
    "\n",
    "If we install TensorFlow 2.16 or above, it will install Keras by default.\n",
    "\n",
    "We are using the CPU version of tensorflow since we are dealing with smaller datasets. \n",
    "We can install the GPU version of tensorflow on the machine to accelarate the processing of larger datasets\n"
   ]
  },
  {
   "cell_type": "markdown",
   "metadata": {},
   "source": [
    "#### Suppress the tensorflow warning messages\n",
    "We use the following code to  suppress the warning messages due to use of CPU architechture for tensoflow.\n",
    "\n",
    "You may want to **comment out** these lines if you are using the GPU architechture\n"
   ]
  },
  {
   "cell_type": "code",
   "execution_count": 2,
   "metadata": {},
   "outputs": [],
   "source": [
    "import os\n",
    "os.environ['TF_ENABLE_ONEDNN_OPTS'] = '0'\n",
    "os.environ['TF_CPP_MIN_LOG_LEVEL'] = '2'"
   ]
  },
  {
   "cell_type": "code",
   "execution_count": null,
   "metadata": {},
   "outputs": [],
   "source": [
    "import pandas as pd\n",
    "import numpy as np\n",
    "import tensorflow as tf\n",
    "from tensorflow import keras\n",
    "# import warnings\n",
    "# warnings.simplefilter('ignore', FutureWarning)"
   ]
  },
  {
   "cell_type": "markdown",
   "metadata": {},
   "source": [
    "We will be playing around with the same dataset that we used in the videos.\n",
    "\n",
    "<strong>The dataset is about the compressive strength of different samples of concrete based on the volumes of the different ingredients that were used to make them. Ingredients include:</strong>\n",
    "\n",
    "* Cement\n",
    "* Blast furnace slag\n",
    "* Fly ash\n",
    "* Water\n",
    "* Superplasticizer\n",
    "* Coarse aggregate\n",
    "* Fine aggregate\n"
   ]
  },
  {
   "cell_type": "markdown",
   "metadata": {},
   "source": [
    "## Download and Clean the Data Set\n"
   ]
  },
  {
   "cell_type": "markdown",
   "metadata": {},
   "source": [
    "Let's download the data and read it into a <em>pandas</em> dataframe.\n"
   ]
  },
  {
   "cell_type": "code",
   "execution_count": 4,
   "metadata": {},
   "outputs": [
    {
     "data": {
      "text/html": [
       "<div>\n",
       "<style scoped>\n",
       "    .dataframe tbody tr th:only-of-type {\n",
       "        vertical-align: middle;\n",
       "    }\n",
       "\n",
       "    .dataframe tbody tr th {\n",
       "        vertical-align: top;\n",
       "    }\n",
       "\n",
       "    .dataframe thead th {\n",
       "        text-align: right;\n",
       "    }\n",
       "</style>\n",
       "<table border=\"1\" class=\"dataframe\">\n",
       "  <thead>\n",
       "    <tr style=\"text-align: right;\">\n",
       "      <th></th>\n",
       "      <th>Cement</th>\n",
       "      <th>Blast Furnace Slag</th>\n",
       "      <th>Fly Ash</th>\n",
       "      <th>Water</th>\n",
       "      <th>Superplasticizer</th>\n",
       "      <th>Coarse Aggregate</th>\n",
       "      <th>Fine Aggregate</th>\n",
       "      <th>Age</th>\n",
       "      <th>Strength</th>\n",
       "    </tr>\n",
       "  </thead>\n",
       "  <tbody>\n",
       "    <tr>\n",
       "      <th>0</th>\n",
       "      <td>540.0</td>\n",
       "      <td>0.0</td>\n",
       "      <td>0.0</td>\n",
       "      <td>162.0</td>\n",
       "      <td>2.5</td>\n",
       "      <td>1040.0</td>\n",
       "      <td>676.0</td>\n",
       "      <td>28</td>\n",
       "      <td>79.99</td>\n",
       "    </tr>\n",
       "    <tr>\n",
       "      <th>1</th>\n",
       "      <td>540.0</td>\n",
       "      <td>0.0</td>\n",
       "      <td>0.0</td>\n",
       "      <td>162.0</td>\n",
       "      <td>2.5</td>\n",
       "      <td>1055.0</td>\n",
       "      <td>676.0</td>\n",
       "      <td>28</td>\n",
       "      <td>61.89</td>\n",
       "    </tr>\n",
       "    <tr>\n",
       "      <th>2</th>\n",
       "      <td>332.5</td>\n",
       "      <td>142.5</td>\n",
       "      <td>0.0</td>\n",
       "      <td>228.0</td>\n",
       "      <td>0.0</td>\n",
       "      <td>932.0</td>\n",
       "      <td>594.0</td>\n",
       "      <td>270</td>\n",
       "      <td>40.27</td>\n",
       "    </tr>\n",
       "    <tr>\n",
       "      <th>3</th>\n",
       "      <td>332.5</td>\n",
       "      <td>142.5</td>\n",
       "      <td>0.0</td>\n",
       "      <td>228.0</td>\n",
       "      <td>0.0</td>\n",
       "      <td>932.0</td>\n",
       "      <td>594.0</td>\n",
       "      <td>365</td>\n",
       "      <td>41.05</td>\n",
       "    </tr>\n",
       "    <tr>\n",
       "      <th>4</th>\n",
       "      <td>198.6</td>\n",
       "      <td>132.4</td>\n",
       "      <td>0.0</td>\n",
       "      <td>192.0</td>\n",
       "      <td>0.0</td>\n",
       "      <td>978.4</td>\n",
       "      <td>825.5</td>\n",
       "      <td>360</td>\n",
       "      <td>44.30</td>\n",
       "    </tr>\n",
       "  </tbody>\n",
       "</table>\n",
       "</div>"
      ],
      "text/plain": [
       "   Cement  Blast Furnace Slag  Fly Ash  Water  Superplasticizer  \\\n",
       "0   540.0                 0.0      0.0  162.0               2.5   \n",
       "1   540.0                 0.0      0.0  162.0               2.5   \n",
       "2   332.5               142.5      0.0  228.0               0.0   \n",
       "3   332.5               142.5      0.0  228.0               0.0   \n",
       "4   198.6               132.4      0.0  192.0               0.0   \n",
       "\n",
       "   Coarse Aggregate  Fine Aggregate  Age  Strength  \n",
       "0            1040.0           676.0   28     79.99  \n",
       "1            1055.0           676.0   28     61.89  \n",
       "2             932.0           594.0  270     40.27  \n",
       "3             932.0           594.0  365     41.05  \n",
       "4             978.4           825.5  360     44.30  "
      ]
     },
     "execution_count": 4,
     "metadata": {},
     "output_type": "execute_result"
    }
   ],
   "source": [
    "filepath='https://s3-api.us-geo.objectstorage.softlayer.net/cf-courses-data/CognitiveClass/DL0101EN/labs/data/concrete_data.csv'\n",
    "concrete_data = pd.read_csv(filepath)\n",
    "\n",
    "concrete_data.head()"
   ]
  },
  {
   "cell_type": "markdown",
   "metadata": {},
   "source": [
    "So the first concrete sample has 540 cubic meter of cement, 0 cubic meter of blast furnace slag, 0 cubic meter of fly ash, 162 cubic meter of water, 2.5 cubic meter of superplaticizer, 1040 cubic meter of coarse aggregate, 676 cubic meter of fine aggregate. Such a concrete mix which is 28 days old, has a compressive strength of 79.99 MPa. \n"
   ]
  },
  {
   "cell_type": "markdown",
   "metadata": {},
   "source": [
    "#### Let's check how many data points we have\n"
   ]
  },
  {
   "cell_type": "code",
   "execution_count": 5,
   "metadata": {},
   "outputs": [
    {
     "data": {
      "text/plain": [
       "(1030, 9)"
      ]
     },
     "execution_count": 5,
     "metadata": {},
     "output_type": "execute_result"
    }
   ],
   "source": [
    "concrete_data.shape"
   ]
  },
  {
   "cell_type": "markdown",
   "metadata": {},
   "source": [
    "So, there are approximately 1000 samples to train our model on. Because of the few samples, we have to be careful not to overfit the training data.\n"
   ]
  },
  {
   "cell_type": "markdown",
   "metadata": {},
   "source": [
    "Let's check the dataset for any missing values.\n"
   ]
  },
  {
   "cell_type": "code",
   "execution_count": 6,
   "metadata": {},
   "outputs": [
    {
     "data": {
      "text/html": [
       "<div>\n",
       "<style scoped>\n",
       "    .dataframe tbody tr th:only-of-type {\n",
       "        vertical-align: middle;\n",
       "    }\n",
       "\n",
       "    .dataframe tbody tr th {\n",
       "        vertical-align: top;\n",
       "    }\n",
       "\n",
       "    .dataframe thead th {\n",
       "        text-align: right;\n",
       "    }\n",
       "</style>\n",
       "<table border=\"1\" class=\"dataframe\">\n",
       "  <thead>\n",
       "    <tr style=\"text-align: right;\">\n",
       "      <th></th>\n",
       "      <th>Cement</th>\n",
       "      <th>Blast Furnace Slag</th>\n",
       "      <th>Fly Ash</th>\n",
       "      <th>Water</th>\n",
       "      <th>Superplasticizer</th>\n",
       "      <th>Coarse Aggregate</th>\n",
       "      <th>Fine Aggregate</th>\n",
       "      <th>Age</th>\n",
       "      <th>Strength</th>\n",
       "    </tr>\n",
       "  </thead>\n",
       "  <tbody>\n",
       "    <tr>\n",
       "      <th>count</th>\n",
       "      <td>1030.000000</td>\n",
       "      <td>1030.000000</td>\n",
       "      <td>1030.000000</td>\n",
       "      <td>1030.000000</td>\n",
       "      <td>1030.000000</td>\n",
       "      <td>1030.000000</td>\n",
       "      <td>1030.000000</td>\n",
       "      <td>1030.000000</td>\n",
       "      <td>1030.000000</td>\n",
       "    </tr>\n",
       "    <tr>\n",
       "      <th>mean</th>\n",
       "      <td>281.167864</td>\n",
       "      <td>73.895825</td>\n",
       "      <td>54.188350</td>\n",
       "      <td>181.567282</td>\n",
       "      <td>6.204660</td>\n",
       "      <td>972.918932</td>\n",
       "      <td>773.580485</td>\n",
       "      <td>45.662136</td>\n",
       "      <td>35.817961</td>\n",
       "    </tr>\n",
       "    <tr>\n",
       "      <th>std</th>\n",
       "      <td>104.506364</td>\n",
       "      <td>86.279342</td>\n",
       "      <td>63.997004</td>\n",
       "      <td>21.354219</td>\n",
       "      <td>5.973841</td>\n",
       "      <td>77.753954</td>\n",
       "      <td>80.175980</td>\n",
       "      <td>63.169912</td>\n",
       "      <td>16.705742</td>\n",
       "    </tr>\n",
       "    <tr>\n",
       "      <th>min</th>\n",
       "      <td>102.000000</td>\n",
       "      <td>0.000000</td>\n",
       "      <td>0.000000</td>\n",
       "      <td>121.800000</td>\n",
       "      <td>0.000000</td>\n",
       "      <td>801.000000</td>\n",
       "      <td>594.000000</td>\n",
       "      <td>1.000000</td>\n",
       "      <td>2.330000</td>\n",
       "    </tr>\n",
       "    <tr>\n",
       "      <th>25%</th>\n",
       "      <td>192.375000</td>\n",
       "      <td>0.000000</td>\n",
       "      <td>0.000000</td>\n",
       "      <td>164.900000</td>\n",
       "      <td>0.000000</td>\n",
       "      <td>932.000000</td>\n",
       "      <td>730.950000</td>\n",
       "      <td>7.000000</td>\n",
       "      <td>23.710000</td>\n",
       "    </tr>\n",
       "    <tr>\n",
       "      <th>50%</th>\n",
       "      <td>272.900000</td>\n",
       "      <td>22.000000</td>\n",
       "      <td>0.000000</td>\n",
       "      <td>185.000000</td>\n",
       "      <td>6.400000</td>\n",
       "      <td>968.000000</td>\n",
       "      <td>779.500000</td>\n",
       "      <td>28.000000</td>\n",
       "      <td>34.445000</td>\n",
       "    </tr>\n",
       "    <tr>\n",
       "      <th>75%</th>\n",
       "      <td>350.000000</td>\n",
       "      <td>142.950000</td>\n",
       "      <td>118.300000</td>\n",
       "      <td>192.000000</td>\n",
       "      <td>10.200000</td>\n",
       "      <td>1029.400000</td>\n",
       "      <td>824.000000</td>\n",
       "      <td>56.000000</td>\n",
       "      <td>46.135000</td>\n",
       "    </tr>\n",
       "    <tr>\n",
       "      <th>max</th>\n",
       "      <td>540.000000</td>\n",
       "      <td>359.400000</td>\n",
       "      <td>200.100000</td>\n",
       "      <td>247.000000</td>\n",
       "      <td>32.200000</td>\n",
       "      <td>1145.000000</td>\n",
       "      <td>992.600000</td>\n",
       "      <td>365.000000</td>\n",
       "      <td>82.600000</td>\n",
       "    </tr>\n",
       "  </tbody>\n",
       "</table>\n",
       "</div>"
      ],
      "text/plain": [
       "            Cement  Blast Furnace Slag      Fly Ash        Water  \\\n",
       "count  1030.000000         1030.000000  1030.000000  1030.000000   \n",
       "mean    281.167864           73.895825    54.188350   181.567282   \n",
       "std     104.506364           86.279342    63.997004    21.354219   \n",
       "min     102.000000            0.000000     0.000000   121.800000   \n",
       "25%     192.375000            0.000000     0.000000   164.900000   \n",
       "50%     272.900000           22.000000     0.000000   185.000000   \n",
       "75%     350.000000          142.950000   118.300000   192.000000   \n",
       "max     540.000000          359.400000   200.100000   247.000000   \n",
       "\n",
       "       Superplasticizer  Coarse Aggregate  Fine Aggregate          Age  \\\n",
       "count       1030.000000       1030.000000     1030.000000  1030.000000   \n",
       "mean           6.204660        972.918932      773.580485    45.662136   \n",
       "std            5.973841         77.753954       80.175980    63.169912   \n",
       "min            0.000000        801.000000      594.000000     1.000000   \n",
       "25%            0.000000        932.000000      730.950000     7.000000   \n",
       "50%            6.400000        968.000000      779.500000    28.000000   \n",
       "75%           10.200000       1029.400000      824.000000    56.000000   \n",
       "max           32.200000       1145.000000      992.600000   365.000000   \n",
       "\n",
       "          Strength  \n",
       "count  1030.000000  \n",
       "mean     35.817961  \n",
       "std      16.705742  \n",
       "min       2.330000  \n",
       "25%      23.710000  \n",
       "50%      34.445000  \n",
       "75%      46.135000  \n",
       "max      82.600000  "
      ]
     },
     "execution_count": 6,
     "metadata": {},
     "output_type": "execute_result"
    }
   ],
   "source": [
    "concrete_data.describe()"
   ]
  },
  {
   "cell_type": "code",
   "execution_count": 7,
   "metadata": {},
   "outputs": [
    {
     "data": {
      "text/plain": [
       "Cement                0\n",
       "Blast Furnace Slag    0\n",
       "Fly Ash               0\n",
       "Water                 0\n",
       "Superplasticizer      0\n",
       "Coarse Aggregate      0\n",
       "Fine Aggregate        0\n",
       "Age                   0\n",
       "Strength              0\n",
       "dtype: int64"
      ]
     },
     "execution_count": 7,
     "metadata": {},
     "output_type": "execute_result"
    }
   ],
   "source": [
    "concrete_data.isnull().sum()"
   ]
  },
  {
   "cell_type": "markdown",
   "metadata": {},
   "source": [
    "The data looks very clean and is ready to be used to build our model.\n"
   ]
  },
  {
   "cell_type": "markdown",
   "metadata": {},
   "source": [
    "#### Split data into predictors and target\n"
   ]
  },
  {
   "cell_type": "markdown",
   "metadata": {},
   "source": [
    "The target variable in this problem is the concrete sample strength. Therefore, our predictors will be all the other columns.\n"
   ]
  },
  {
   "cell_type": "code",
   "execution_count": 8,
   "metadata": {},
   "outputs": [],
   "source": [
    "concrete_data_columns = concrete_data.columns"
   ]
  },
  {
   "cell_type": "code",
   "execution_count": 10,
   "metadata": {},
   "outputs": [],
   "source": [
    "predictors = concrete_data[concrete_data_columns[concrete_data_columns != 'Strength']] # all columns except Strength\n",
    "target = concrete_data['Strength'] # Strength column"
   ]
  },
  {
   "cell_type": "markdown",
   "metadata": {},
   "source": [
    "<a id=\"item2\"></a>\n"
   ]
  },
  {
   "cell_type": "markdown",
   "metadata": {},
   "source": [
    "Let's do a quick sanity check of the predictors and the target dataframes.\n"
   ]
  },
  {
   "cell_type": "code",
   "execution_count": 11,
   "metadata": {},
   "outputs": [
    {
     "data": {
      "text/html": [
       "<div>\n",
       "<style scoped>\n",
       "    .dataframe tbody tr th:only-of-type {\n",
       "        vertical-align: middle;\n",
       "    }\n",
       "\n",
       "    .dataframe tbody tr th {\n",
       "        vertical-align: top;\n",
       "    }\n",
       "\n",
       "    .dataframe thead th {\n",
       "        text-align: right;\n",
       "    }\n",
       "</style>\n",
       "<table border=\"1\" class=\"dataframe\">\n",
       "  <thead>\n",
       "    <tr style=\"text-align: right;\">\n",
       "      <th></th>\n",
       "      <th>Cement</th>\n",
       "      <th>Blast Furnace Slag</th>\n",
       "      <th>Fly Ash</th>\n",
       "      <th>Water</th>\n",
       "      <th>Superplasticizer</th>\n",
       "      <th>Coarse Aggregate</th>\n",
       "      <th>Fine Aggregate</th>\n",
       "      <th>Age</th>\n",
       "    </tr>\n",
       "  </thead>\n",
       "  <tbody>\n",
       "    <tr>\n",
       "      <th>0</th>\n",
       "      <td>540.0</td>\n",
       "      <td>0.0</td>\n",
       "      <td>0.0</td>\n",
       "      <td>162.0</td>\n",
       "      <td>2.5</td>\n",
       "      <td>1040.0</td>\n",
       "      <td>676.0</td>\n",
       "      <td>28</td>\n",
       "    </tr>\n",
       "    <tr>\n",
       "      <th>1</th>\n",
       "      <td>540.0</td>\n",
       "      <td>0.0</td>\n",
       "      <td>0.0</td>\n",
       "      <td>162.0</td>\n",
       "      <td>2.5</td>\n",
       "      <td>1055.0</td>\n",
       "      <td>676.0</td>\n",
       "      <td>28</td>\n",
       "    </tr>\n",
       "    <tr>\n",
       "      <th>2</th>\n",
       "      <td>332.5</td>\n",
       "      <td>142.5</td>\n",
       "      <td>0.0</td>\n",
       "      <td>228.0</td>\n",
       "      <td>0.0</td>\n",
       "      <td>932.0</td>\n",
       "      <td>594.0</td>\n",
       "      <td>270</td>\n",
       "    </tr>\n",
       "    <tr>\n",
       "      <th>3</th>\n",
       "      <td>332.5</td>\n",
       "      <td>142.5</td>\n",
       "      <td>0.0</td>\n",
       "      <td>228.0</td>\n",
       "      <td>0.0</td>\n",
       "      <td>932.0</td>\n",
       "      <td>594.0</td>\n",
       "      <td>365</td>\n",
       "    </tr>\n",
       "    <tr>\n",
       "      <th>4</th>\n",
       "      <td>198.6</td>\n",
       "      <td>132.4</td>\n",
       "      <td>0.0</td>\n",
       "      <td>192.0</td>\n",
       "      <td>0.0</td>\n",
       "      <td>978.4</td>\n",
       "      <td>825.5</td>\n",
       "      <td>360</td>\n",
       "    </tr>\n",
       "  </tbody>\n",
       "</table>\n",
       "</div>"
      ],
      "text/plain": [
       "   Cement  Blast Furnace Slag  Fly Ash  Water  Superplasticizer  \\\n",
       "0   540.0                 0.0      0.0  162.0               2.5   \n",
       "1   540.0                 0.0      0.0  162.0               2.5   \n",
       "2   332.5               142.5      0.0  228.0               0.0   \n",
       "3   332.5               142.5      0.0  228.0               0.0   \n",
       "4   198.6               132.4      0.0  192.0               0.0   \n",
       "\n",
       "   Coarse Aggregate  Fine Aggregate  Age  \n",
       "0            1040.0           676.0   28  \n",
       "1            1055.0           676.0   28  \n",
       "2             932.0           594.0  270  \n",
       "3             932.0           594.0  365  \n",
       "4             978.4           825.5  360  "
      ]
     },
     "execution_count": 11,
     "metadata": {},
     "output_type": "execute_result"
    }
   ],
   "source": [
    "predictors.head()"
   ]
  },
  {
   "cell_type": "code",
   "execution_count": 12,
   "metadata": {},
   "outputs": [
    {
     "data": {
      "text/plain": [
       "0    79.99\n",
       "1    61.89\n",
       "2    40.27\n",
       "3    41.05\n",
       "4    44.30\n",
       "Name: Strength, dtype: float64"
      ]
     },
     "execution_count": 12,
     "metadata": {},
     "output_type": "execute_result"
    }
   ],
   "source": [
    "target.head()"
   ]
  },
  {
   "cell_type": "markdown",
   "metadata": {},
   "source": [
    "Finally, the last step is to normalize the data by substracting the mean and dividing by the standard deviation.\n"
   ]
  },
  {
   "cell_type": "code",
   "execution_count": 13,
   "metadata": {},
   "outputs": [
    {
     "data": {
      "text/html": [
       "<div>\n",
       "<style scoped>\n",
       "    .dataframe tbody tr th:only-of-type {\n",
       "        vertical-align: middle;\n",
       "    }\n",
       "\n",
       "    .dataframe tbody tr th {\n",
       "        vertical-align: top;\n",
       "    }\n",
       "\n",
       "    .dataframe thead th {\n",
       "        text-align: right;\n",
       "    }\n",
       "</style>\n",
       "<table border=\"1\" class=\"dataframe\">\n",
       "  <thead>\n",
       "    <tr style=\"text-align: right;\">\n",
       "      <th></th>\n",
       "      <th>Cement</th>\n",
       "      <th>Blast Furnace Slag</th>\n",
       "      <th>Fly Ash</th>\n",
       "      <th>Water</th>\n",
       "      <th>Superplasticizer</th>\n",
       "      <th>Coarse Aggregate</th>\n",
       "      <th>Fine Aggregate</th>\n",
       "      <th>Age</th>\n",
       "    </tr>\n",
       "  </thead>\n",
       "  <tbody>\n",
       "    <tr>\n",
       "      <th>0</th>\n",
       "      <td>2.476712</td>\n",
       "      <td>-0.856472</td>\n",
       "      <td>-0.846733</td>\n",
       "      <td>-0.916319</td>\n",
       "      <td>-0.620147</td>\n",
       "      <td>0.862735</td>\n",
       "      <td>-1.217079</td>\n",
       "      <td>-0.279597</td>\n",
       "    </tr>\n",
       "    <tr>\n",
       "      <th>1</th>\n",
       "      <td>2.476712</td>\n",
       "      <td>-0.856472</td>\n",
       "      <td>-0.846733</td>\n",
       "      <td>-0.916319</td>\n",
       "      <td>-0.620147</td>\n",
       "      <td>1.055651</td>\n",
       "      <td>-1.217079</td>\n",
       "      <td>-0.279597</td>\n",
       "    </tr>\n",
       "    <tr>\n",
       "      <th>2</th>\n",
       "      <td>0.491187</td>\n",
       "      <td>0.795140</td>\n",
       "      <td>-0.846733</td>\n",
       "      <td>2.174405</td>\n",
       "      <td>-1.038638</td>\n",
       "      <td>-0.526262</td>\n",
       "      <td>-2.239829</td>\n",
       "      <td>3.551340</td>\n",
       "    </tr>\n",
       "    <tr>\n",
       "      <th>3</th>\n",
       "      <td>0.491187</td>\n",
       "      <td>0.795140</td>\n",
       "      <td>-0.846733</td>\n",
       "      <td>2.174405</td>\n",
       "      <td>-1.038638</td>\n",
       "      <td>-0.526262</td>\n",
       "      <td>-2.239829</td>\n",
       "      <td>5.055221</td>\n",
       "    </tr>\n",
       "    <tr>\n",
       "      <th>4</th>\n",
       "      <td>-0.790075</td>\n",
       "      <td>0.678079</td>\n",
       "      <td>-0.846733</td>\n",
       "      <td>0.488555</td>\n",
       "      <td>-1.038638</td>\n",
       "      <td>0.070492</td>\n",
       "      <td>0.647569</td>\n",
       "      <td>4.976069</td>\n",
       "    </tr>\n",
       "  </tbody>\n",
       "</table>\n",
       "</div>"
      ],
      "text/plain": [
       "     Cement  Blast Furnace Slag   Fly Ash     Water  Superplasticizer  \\\n",
       "0  2.476712           -0.856472 -0.846733 -0.916319         -0.620147   \n",
       "1  2.476712           -0.856472 -0.846733 -0.916319         -0.620147   \n",
       "2  0.491187            0.795140 -0.846733  2.174405         -1.038638   \n",
       "3  0.491187            0.795140 -0.846733  2.174405         -1.038638   \n",
       "4 -0.790075            0.678079 -0.846733  0.488555         -1.038638   \n",
       "\n",
       "   Coarse Aggregate  Fine Aggregate       Age  \n",
       "0          0.862735       -1.217079 -0.279597  \n",
       "1          1.055651       -1.217079 -0.279597  \n",
       "2         -0.526262       -2.239829  3.551340  \n",
       "3         -0.526262       -2.239829  5.055221  \n",
       "4          0.070492        0.647569  4.976069  "
      ]
     },
     "execution_count": 13,
     "metadata": {},
     "output_type": "execute_result"
    }
   ],
   "source": [
    "predictors_norm = (predictors - predictors.mean()) / predictors.std()\n",
    "predictors_norm.head()"
   ]
  },
  {
   "cell_type": "markdown",
   "metadata": {},
   "source": [
    "Let's save the number of predictors to *n_cols* since we will need this number when building our network.\n"
   ]
  },
  {
   "cell_type": "code",
   "execution_count": 14,
   "metadata": {},
   "outputs": [],
   "source": [
    "n_cols = predictors_norm.shape[1] # number of predictors"
   ]
  },
  {
   "cell_type": "markdown",
   "metadata": {},
   "source": [
    "<a id=\"item1\"></a>\n"
   ]
  },
  {
   "cell_type": "markdown",
   "metadata": {},
   "source": [
    "##  Import Keras Packages\n",
    "\n",
    "##### Let's import the rest of the packages from the Keras library that we will need to build our regression model.\n"
   ]
  },
  {
   "cell_type": "code",
   "execution_count": 16,
   "metadata": {},
   "outputs": [],
   "source": [
    "from keras.models import Sequential\n",
    "from keras.layers import Dense\n",
    "from keras.layers import Input"
   ]
  },
  {
   "cell_type": "markdown",
   "metadata": {},
   "source": [
    "## Build a Neural Network\n"
   ]
  },
  {
   "cell_type": "markdown",
   "metadata": {},
   "source": [
    "Let's define a function that defines our regression model for us so that we can conveniently call it to create our model.\n"
   ]
  },
  {
   "cell_type": "code",
   "execution_count": 17,
   "metadata": {},
   "outputs": [],
   "source": [
    "# define regression model\n",
    "def regression_model():\n",
    "    # create model\n",
    "    model = Sequential()\n",
    "    model.add(Input(shape=(n_cols,)))\n",
    "    model.add(Dense(50, activation='relu'))\n",
    "    model.add(Dense(50, activation='relu'))\n",
    "    model.add(Dense(1))\n",
    "    \n",
    "    # compile model\n",
    "    model.compile(optimizer='adam', loss='mean_squared_error')\n",
    "    return model"
   ]
  },
  {
   "cell_type": "markdown",
   "metadata": {},
   "source": [
    "The above function create a model that has two hidden layers, each of 50 hidden units.\n"
   ]
  },
  {
   "cell_type": "markdown",
   "metadata": {},
   "source": [
    "## Train and Test the Network\n"
   ]
  },
  {
   "cell_type": "markdown",
   "metadata": {},
   "source": [
    "Let's call the function now to create our model.\n"
   ]
  },
  {
   "cell_type": "code",
   "execution_count": 18,
   "metadata": {},
   "outputs": [],
   "source": [
    "# build the model\n",
    "model = regression_model()"
   ]
  },
  {
   "cell_type": "markdown",
   "metadata": {},
   "source": [
    "Next, we will train and test the model at the same time using the *fit* method. We will leave out 30% of the data for validation and we will train the model for 100 epochs.\n"
   ]
  },
  {
   "cell_type": "code",
   "execution_count": 19,
   "metadata": {},
   "outputs": [
    {
     "name": "stdout",
     "output_type": "stream",
     "text": [
      "Epoch 1/100\n",
      "23/23 - 1s - 54ms/step - loss: 1655.4164 - val_loss: 1152.1321\n",
      "Epoch 2/100\n",
      "23/23 - 0s - 8ms/step - loss: 1519.3458 - val_loss: 1023.0252\n",
      "Epoch 3/100\n",
      "23/23 - 0s - 8ms/step - loss: 1303.8925 - val_loss: 824.9205\n",
      "Epoch 4/100\n",
      "23/23 - 0s - 8ms/step - loss: 979.8521 - val_loss: 573.2534\n",
      "Epoch 5/100\n",
      "23/23 - 0s - 8ms/step - loss: 604.6685 - val_loss: 336.7318\n",
      "Epoch 6/100\n",
      "23/23 - 0s - 7ms/step - loss: 336.6853 - val_loss: 206.4841\n",
      "Epoch 7/100\n",
      "23/23 - 0s - 7ms/step - loss: 249.8927 - val_loss: 179.8244\n",
      "Epoch 8/100\n",
      "23/23 - 0s - 7ms/step - loss: 233.7514 - val_loss: 176.7837\n",
      "Epoch 9/100\n",
      "23/23 - 0s - 7ms/step - loss: 219.6084 - val_loss: 176.2207\n",
      "Epoch 10/100\n",
      "23/23 - 0s - 6ms/step - loss: 209.1719 - val_loss: 173.6569\n",
      "Epoch 11/100\n",
      "23/23 - 0s - 7ms/step - loss: 200.0567 - val_loss: 169.5807\n",
      "Epoch 12/100\n",
      "23/23 - 0s - 7ms/step - loss: 193.1914 - val_loss: 169.5605\n",
      "Epoch 13/100\n",
      "23/23 - 0s - 6ms/step - loss: 187.0741 - val_loss: 167.2647\n",
      "Epoch 14/100\n",
      "23/23 - 0s - 7ms/step - loss: 181.8453 - val_loss: 167.2156\n",
      "Epoch 15/100\n",
      "23/23 - 0s - 7ms/step - loss: 176.3933 - val_loss: 166.4044\n",
      "Epoch 16/100\n",
      "23/23 - 0s - 6ms/step - loss: 172.1628 - val_loss: 165.6922\n",
      "Epoch 17/100\n",
      "23/23 - 0s - 7ms/step - loss: 168.0120 - val_loss: 166.1288\n",
      "Epoch 18/100\n",
      "23/23 - 0s - 12ms/step - loss: 164.2004 - val_loss: 165.2099\n",
      "Epoch 19/100\n",
      "23/23 - 0s - 8ms/step - loss: 161.5051 - val_loss: 168.1163\n",
      "Epoch 20/100\n",
      "23/23 - 0s - 7ms/step - loss: 158.1263 - val_loss: 165.7477\n",
      "Epoch 21/100\n",
      "23/23 - 0s - 7ms/step - loss: 157.6891 - val_loss: 169.8634\n",
      "Epoch 22/100\n",
      "23/23 - 0s - 7ms/step - loss: 153.0948 - val_loss: 164.5818\n",
      "Epoch 23/100\n",
      "23/23 - 0s - 7ms/step - loss: 149.9016 - val_loss: 168.2678\n",
      "Epoch 24/100\n",
      "23/23 - 0s - 6ms/step - loss: 147.8481 - val_loss: 166.8406\n",
      "Epoch 25/100\n",
      "23/23 - 0s - 7ms/step - loss: 145.2373 - val_loss: 171.9308\n",
      "Epoch 26/100\n",
      "23/23 - 0s - 6ms/step - loss: 143.2856 - val_loss: 170.1485\n",
      "Epoch 27/100\n",
      "23/23 - 0s - 6ms/step - loss: 141.0147 - val_loss: 170.6046\n",
      "Epoch 28/100\n",
      "23/23 - 0s - 6ms/step - loss: 137.9991 - val_loss: 173.1006\n",
      "Epoch 29/100\n",
      "23/23 - 0s - 6ms/step - loss: 135.3121 - val_loss: 171.1038\n",
      "Epoch 30/100\n",
      "23/23 - 0s - 7ms/step - loss: 132.2760 - val_loss: 170.4512\n",
      "Epoch 31/100\n",
      "23/23 - 0s - 7ms/step - loss: 129.2225 - val_loss: 171.3446\n",
      "Epoch 32/100\n",
      "23/23 - 0s - 7ms/step - loss: 126.5648 - val_loss: 169.3107\n",
      "Epoch 33/100\n",
      "23/23 - 0s - 7ms/step - loss: 123.8358 - val_loss: 170.2662\n",
      "Epoch 34/100\n",
      "23/23 - 0s - 7ms/step - loss: 120.5941 - val_loss: 171.6974\n",
      "Epoch 35/100\n",
      "23/23 - 0s - 6ms/step - loss: 117.4538 - val_loss: 169.7967\n",
      "Epoch 36/100\n",
      "23/23 - 0s - 7ms/step - loss: 113.8728 - val_loss: 175.1350\n",
      "Epoch 37/100\n",
      "23/23 - 0s - 7ms/step - loss: 110.3504 - val_loss: 171.2637\n",
      "Epoch 38/100\n",
      "23/23 - 0s - 7ms/step - loss: 107.1433 - val_loss: 176.2284\n",
      "Epoch 39/100\n",
      "23/23 - 0s - 6ms/step - loss: 104.0672 - val_loss: 174.9783\n",
      "Epoch 40/100\n",
      "23/23 - 0s - 7ms/step - loss: 101.2067 - val_loss: 176.7701\n",
      "Epoch 41/100\n",
      "23/23 - 0s - 6ms/step - loss: 97.3034 - val_loss: 174.1253\n",
      "Epoch 42/100\n",
      "23/23 - 0s - 6ms/step - loss: 94.0395 - val_loss: 170.6417\n",
      "Epoch 43/100\n",
      "23/23 - 0s - 6ms/step - loss: 91.8084 - val_loss: 169.1062\n",
      "Epoch 44/100\n",
      "23/23 - 0s - 7ms/step - loss: 88.2119 - val_loss: 175.1903\n",
      "Epoch 45/100\n",
      "23/23 - 0s - 7ms/step - loss: 85.7120 - val_loss: 174.3419\n",
      "Epoch 46/100\n",
      "23/23 - 0s - 6ms/step - loss: 83.3773 - val_loss: 181.7844\n",
      "Epoch 47/100\n",
      "23/23 - 0s - 7ms/step - loss: 80.1248 - val_loss: 172.1731\n",
      "Epoch 48/100\n",
      "23/23 - 0s - 7ms/step - loss: 77.6069 - val_loss: 171.6684\n",
      "Epoch 49/100\n",
      "23/23 - 0s - 8ms/step - loss: 74.8270 - val_loss: 168.4227\n",
      "Epoch 50/100\n",
      "23/23 - 0s - 7ms/step - loss: 72.9538 - val_loss: 172.4290\n",
      "Epoch 51/100\n",
      "23/23 - 0s - 6ms/step - loss: 71.3140 - val_loss: 169.3767\n",
      "Epoch 52/100\n",
      "23/23 - 0s - 7ms/step - loss: 69.5245 - val_loss: 163.4539\n",
      "Epoch 53/100\n",
      "23/23 - 0s - 7ms/step - loss: 66.9641 - val_loss: 177.4866\n",
      "Epoch 54/100\n",
      "23/23 - 0s - 7ms/step - loss: 64.7909 - val_loss: 163.0386\n",
      "Epoch 55/100\n",
      "23/23 - 0s - 6ms/step - loss: 62.8690 - val_loss: 169.4276\n",
      "Epoch 56/100\n",
      "23/23 - 0s - 7ms/step - loss: 60.9661 - val_loss: 160.7587\n",
      "Epoch 57/100\n",
      "23/23 - 0s - 7ms/step - loss: 60.2236 - val_loss: 164.2399\n",
      "Epoch 58/100\n",
      "23/23 - 0s - 7ms/step - loss: 57.7100 - val_loss: 163.2186\n",
      "Epoch 59/100\n",
      "23/23 - 0s - 7ms/step - loss: 56.5018 - val_loss: 166.4795\n",
      "Epoch 60/100\n",
      "23/23 - 0s - 6ms/step - loss: 55.1309 - val_loss: 158.8803\n",
      "Epoch 61/100\n",
      "23/23 - 0s - 7ms/step - loss: 54.2151 - val_loss: 165.7120\n",
      "Epoch 62/100\n",
      "23/23 - 0s - 6ms/step - loss: 52.6404 - val_loss: 163.6127\n",
      "Epoch 63/100\n",
      "23/23 - 0s - 7ms/step - loss: 51.5297 - val_loss: 160.0854\n",
      "Epoch 64/100\n",
      "23/23 - 0s - 7ms/step - loss: 50.9388 - val_loss: 159.1867\n",
      "Epoch 65/100\n",
      "23/23 - 0s - 7ms/step - loss: 49.7696 - val_loss: 168.1501\n",
      "Epoch 66/100\n",
      "23/23 - 0s - 6ms/step - loss: 48.7468 - val_loss: 158.7300\n",
      "Epoch 67/100\n",
      "23/23 - 0s - 7ms/step - loss: 47.7723 - val_loss: 163.8192\n",
      "Epoch 68/100\n",
      "23/23 - 0s - 7ms/step - loss: 47.3924 - val_loss: 157.4336\n",
      "Epoch 69/100\n",
      "23/23 - 0s - 7ms/step - loss: 46.3047 - val_loss: 159.7215\n",
      "Epoch 70/100\n",
      "23/23 - 0s - 7ms/step - loss: 45.2878 - val_loss: 162.3180\n",
      "Epoch 71/100\n",
      "23/23 - 0s - 7ms/step - loss: 45.2097 - val_loss: 155.0981\n",
      "Epoch 72/100\n",
      "23/23 - 0s - 7ms/step - loss: 44.1975 - val_loss: 157.5302\n",
      "Epoch 73/100\n",
      "23/23 - 0s - 6ms/step - loss: 43.6459 - val_loss: 155.7218\n",
      "Epoch 74/100\n",
      "23/23 - 0s - 7ms/step - loss: 43.2369 - val_loss: 151.8532\n",
      "Epoch 75/100\n",
      "23/23 - 0s - 7ms/step - loss: 43.0051 - val_loss: 163.9003\n",
      "Epoch 76/100\n",
      "23/23 - 0s - 7ms/step - loss: 41.8324 - val_loss: 165.5605\n",
      "Epoch 77/100\n",
      "23/23 - 0s - 7ms/step - loss: 41.2685 - val_loss: 157.5211\n",
      "Epoch 78/100\n",
      "23/23 - 0s - 7ms/step - loss: 40.9270 - val_loss: 157.5604\n",
      "Epoch 79/100\n",
      "23/23 - 0s - 7ms/step - loss: 40.3238 - val_loss: 160.8114\n",
      "Epoch 80/100\n",
      "23/23 - 0s - 7ms/step - loss: 39.8780 - val_loss: 158.2596\n",
      "Epoch 81/100\n",
      "23/23 - 0s - 6ms/step - loss: 39.3542 - val_loss: 154.4406\n",
      "Epoch 82/100\n",
      "23/23 - 0s - 7ms/step - loss: 39.1274 - val_loss: 162.4356\n",
      "Epoch 83/100\n",
      "23/23 - 0s - 6ms/step - loss: 38.7546 - val_loss: 157.0481\n",
      "Epoch 84/100\n",
      "23/23 - 0s - 6ms/step - loss: 38.6929 - val_loss: 152.4504\n",
      "Epoch 85/100\n",
      "23/23 - 0s - 7ms/step - loss: 37.7833 - val_loss: 149.9608\n",
      "Epoch 86/100\n",
      "23/23 - 0s - 7ms/step - loss: 37.4825 - val_loss: 163.4332\n",
      "Epoch 87/100\n",
      "23/23 - 0s - 7ms/step - loss: 37.4216 - val_loss: 160.8363\n",
      "Epoch 88/100\n",
      "23/23 - 0s - 7ms/step - loss: 36.4358 - val_loss: 165.3378\n",
      "Epoch 89/100\n",
      "23/23 - 0s - 7ms/step - loss: 36.2916 - val_loss: 154.5374\n",
      "Epoch 90/100\n",
      "23/23 - 0s - 7ms/step - loss: 35.5989 - val_loss: 163.7470\n",
      "Epoch 91/100\n",
      "23/23 - 0s - 7ms/step - loss: 35.7294 - val_loss: 161.5362\n",
      "Epoch 92/100\n",
      "23/23 - 0s - 7ms/step - loss: 35.7148 - val_loss: 159.3390\n",
      "Epoch 93/100\n",
      "23/23 - 0s - 6ms/step - loss: 34.8939 - val_loss: 159.8925\n",
      "Epoch 94/100\n",
      "23/23 - 0s - 7ms/step - loss: 34.5017 - val_loss: 173.1901\n",
      "Epoch 95/100\n",
      "23/23 - 0s - 7ms/step - loss: 35.0371 - val_loss: 156.9462\n",
      "Epoch 96/100\n",
      "23/23 - 0s - 7ms/step - loss: 33.6265 - val_loss: 159.0442\n",
      "Epoch 97/100\n",
      "23/23 - 0s - 8ms/step - loss: 33.2804 - val_loss: 150.5144\n",
      "Epoch 98/100\n",
      "23/23 - 0s - 8ms/step - loss: 33.1821 - val_loss: 160.7432\n",
      "Epoch 99/100\n",
      "23/23 - 0s - 7ms/step - loss: 32.3626 - val_loss: 173.0587\n",
      "Epoch 100/100\n",
      "23/23 - 0s - 7ms/step - loss: 32.9188 - val_loss: 152.0884\n"
     ]
    },
    {
     "data": {
      "text/plain": [
       "<keras.src.callbacks.history.History at 0x7fb8f97282f0>"
      ]
     },
     "execution_count": 19,
     "metadata": {},
     "output_type": "execute_result"
    }
   ],
   "source": [
    "# fit the model\n",
    "model.fit(predictors_norm, target, validation_split=0.3, epochs=100, verbose=2)"
   ]
  },
  {
   "cell_type": "markdown",
   "metadata": {},
   "source": [
    "Feel free to vary the following and note what impact each change has on the model's performance:\n",
    "\n",
    "1. Increase or decreate number of neurons in hidden layers\n",
    "2. Add more hidden layers\n",
    "3. Increase number of epochs\n"
   ]
  },
  {
   "cell_type": "markdown",
   "metadata": {},
   "source": [
    "Now using the same dateset,try to recreate regression model featuring five hidden layers, each with 50 nodes and ReLU activation functions, a single output layer, optimized using the Adam optimizer.\n"
   ]
  },
  {
   "cell_type": "code",
   "execution_count": 20,
   "metadata": {},
   "outputs": [],
   "source": [
    "def regression_model():\n",
    "    input_colm = predictors_norm.shape[1] # Number of input features\n",
    "    # create model\n",
    "    model = Sequential()\n",
    "    model.add(Input(shape=(input_colm,)))  # Set the number of input features \n",
    "    model.add(Dense(50, activation='relu'))  \n",
    "    model.add(Dense(50, activation='relu'))\n",
    "    model.add(Dense(50, activation='relu')) \n",
    "    model.add(Dense(50, activation='relu'))\n",
    "    model.add(Dense(50, activation='relu'))  \n",
    "    model.add(Dense(1))  # Output layer\n",
    "    \n",
    "    # compile model\n",
    "    model.compile(optimizer='adam', loss='mean_squared_error')\n",
    "    return model"
   ]
  },
  {
   "cell_type": "markdown",
   "metadata": {},
   "source": [
    " Train and evaluate the model simultaneously using the fit() method by reserving 10% of the data for validation and training the model for 100 epochs\n"
   ]
  },
  {
   "cell_type": "code",
   "execution_count": 21,
   "metadata": {},
   "outputs": [
    {
     "name": "stdout",
     "output_type": "stream",
     "text": [
      "Epoch 1/100\n",
      "29/29 - 2s - 64ms/step - loss: 1437.3699 - val_loss: 699.7480\n",
      "Epoch 2/100\n",
      "29/29 - 0s - 8ms/step - loss: 497.6547 - val_loss: 195.9799\n",
      "Epoch 3/100\n",
      "29/29 - 0s - 8ms/step - loss: 242.3686 - val_loss: 156.5719\n",
      "Epoch 4/100\n",
      "29/29 - 0s - 8ms/step - loss: 196.6835 - val_loss: 153.5910\n",
      "Epoch 5/100\n",
      "29/29 - 0s - 7ms/step - loss: 175.2904 - val_loss: 142.3282\n",
      "Epoch 6/100\n",
      "29/29 - 0s - 7ms/step - loss: 159.6885 - val_loss: 140.0276\n",
      "Epoch 7/100\n",
      "29/29 - 0s - 7ms/step - loss: 142.1828 - val_loss: 137.2591\n",
      "Epoch 8/100\n",
      "29/29 - 0s - 7ms/step - loss: 128.0768 - val_loss: 129.9262\n",
      "Epoch 9/100\n",
      "29/29 - 0s - 7ms/step - loss: 114.4344 - val_loss: 118.4388\n",
      "Epoch 10/100\n",
      "29/29 - 0s - 7ms/step - loss: 98.2905 - val_loss: 117.0920\n",
      "Epoch 11/100\n",
      "29/29 - 0s - 7ms/step - loss: 86.8513 - val_loss: 95.2830\n",
      "Epoch 12/100\n",
      "29/29 - 0s - 7ms/step - loss: 72.9177 - val_loss: 83.7971\n",
      "Epoch 13/100\n",
      "29/29 - 0s - 7ms/step - loss: 64.3259 - val_loss: 77.6072\n",
      "Epoch 14/100\n",
      "29/29 - 0s - 7ms/step - loss: 56.7336 - val_loss: 73.0761\n",
      "Epoch 15/100\n",
      "29/29 - 0s - 7ms/step - loss: 51.4383 - val_loss: 55.3323\n",
      "Epoch 16/100\n",
      "29/29 - 0s - 6ms/step - loss: 49.6107 - val_loss: 52.2696\n",
      "Epoch 17/100\n",
      "29/29 - 0s - 7ms/step - loss: 42.7392 - val_loss: 43.2477\n",
      "Epoch 18/100\n",
      "29/29 - 0s - 7ms/step - loss: 40.9722 - val_loss: 37.4469\n",
      "Epoch 19/100\n",
      "29/29 - 0s - 8ms/step - loss: 37.6451 - val_loss: 33.6976\n",
      "Epoch 20/100\n",
      "29/29 - 0s - 8ms/step - loss: 34.1877 - val_loss: 35.1501\n",
      "Epoch 21/100\n",
      "29/29 - 0s - 7ms/step - loss: 34.1038 - val_loss: 31.2439\n",
      "Epoch 22/100\n",
      "29/29 - 0s - 7ms/step - loss: 32.5825 - val_loss: 31.2591\n",
      "Epoch 23/100\n",
      "29/29 - 0s - 7ms/step - loss: 30.1649 - val_loss: 28.4706\n",
      "Epoch 24/100\n",
      "29/29 - 0s - 7ms/step - loss: 27.9787 - val_loss: 29.2412\n",
      "Epoch 25/100\n",
      "29/29 - 0s - 7ms/step - loss: 27.9303 - val_loss: 28.2960\n",
      "Epoch 26/100\n",
      "29/29 - 0s - 7ms/step - loss: 27.0510 - val_loss: 29.2272\n",
      "Epoch 27/100\n",
      "29/29 - 0s - 7ms/step - loss: 26.4299 - val_loss: 27.1867\n",
      "Epoch 28/100\n",
      "29/29 - 0s - 7ms/step - loss: 24.4479 - val_loss: 26.2974\n",
      "Epoch 29/100\n",
      "29/29 - 0s - 7ms/step - loss: 25.7450 - val_loss: 28.3980\n",
      "Epoch 30/100\n",
      "29/29 - 0s - 7ms/step - loss: 23.4898 - val_loss: 25.9140\n",
      "Epoch 31/100\n",
      "29/29 - 0s - 7ms/step - loss: 22.7810 - val_loss: 26.0625\n",
      "Epoch 32/100\n",
      "29/29 - 0s - 6ms/step - loss: 21.7592 - val_loss: 27.0466\n",
      "Epoch 33/100\n",
      "29/29 - 0s - 7ms/step - loss: 21.7081 - val_loss: 29.0439\n",
      "Epoch 34/100\n",
      "29/29 - 0s - 6ms/step - loss: 20.4230 - val_loss: 26.2397\n",
      "Epoch 35/100\n",
      "29/29 - 0s - 6ms/step - loss: 20.9739 - val_loss: 25.3467\n",
      "Epoch 36/100\n",
      "29/29 - 0s - 6ms/step - loss: 20.2257 - val_loss: 26.0112\n",
      "Epoch 37/100\n",
      "29/29 - 0s - 6ms/step - loss: 20.4345 - val_loss: 24.8249\n",
      "Epoch 38/100\n",
      "29/29 - 0s - 6ms/step - loss: 18.9726 - val_loss: 23.4304\n",
      "Epoch 39/100\n",
      "29/29 - 0s - 7ms/step - loss: 18.8064 - val_loss: 24.1135\n",
      "Epoch 40/100\n",
      "29/29 - 0s - 7ms/step - loss: 18.3156 - val_loss: 23.4310\n",
      "Epoch 41/100\n",
      "29/29 - 0s - 6ms/step - loss: 19.8794 - val_loss: 22.9580\n",
      "Epoch 42/100\n",
      "29/29 - 0s - 6ms/step - loss: 19.2184 - val_loss: 24.2526\n",
      "Epoch 43/100\n",
      "29/29 - 0s - 7ms/step - loss: 17.4802 - val_loss: 23.7916\n",
      "Epoch 44/100\n",
      "29/29 - 0s - 7ms/step - loss: 18.5198 - val_loss: 23.3142\n",
      "Epoch 45/100\n",
      "29/29 - 0s - 7ms/step - loss: 19.0482 - val_loss: 23.4637\n",
      "Epoch 46/100\n",
      "29/29 - 0s - 7ms/step - loss: 19.0776 - val_loss: 22.5074\n",
      "Epoch 47/100\n",
      "29/29 - 0s - 7ms/step - loss: 18.6517 - val_loss: 21.9342\n",
      "Epoch 48/100\n",
      "29/29 - 0s - 7ms/step - loss: 16.8218 - val_loss: 21.2545\n",
      "Epoch 49/100\n",
      "29/29 - 0s - 7ms/step - loss: 16.0161 - val_loss: 20.7166\n",
      "Epoch 50/100\n",
      "29/29 - 0s - 7ms/step - loss: 15.5853 - val_loss: 23.6262\n",
      "Epoch 51/100\n",
      "29/29 - 0s - 7ms/step - loss: 15.5518 - val_loss: 25.0920\n",
      "Epoch 52/100\n",
      "29/29 - 0s - 7ms/step - loss: 16.4021 - val_loss: 21.1206\n",
      "Epoch 53/100\n",
      "29/29 - 0s - 7ms/step - loss: 16.3379 - val_loss: 20.9674\n",
      "Epoch 54/100\n",
      "29/29 - 0s - 7ms/step - loss: 16.0728 - val_loss: 20.9527\n",
      "Epoch 55/100\n",
      "29/29 - 0s - 7ms/step - loss: 17.0724 - val_loss: 20.7562\n",
      "Epoch 56/100\n",
      "29/29 - 0s - 6ms/step - loss: 16.9137 - val_loss: 22.2812\n",
      "Epoch 57/100\n",
      "29/29 - 0s - 6ms/step - loss: 15.2627 - val_loss: 20.4289\n",
      "Epoch 58/100\n",
      "29/29 - 0s - 7ms/step - loss: 15.8717 - val_loss: 20.5768\n",
      "Epoch 59/100\n",
      "29/29 - 0s - 6ms/step - loss: 14.6025 - val_loss: 21.5799\n",
      "Epoch 60/100\n",
      "29/29 - 0s - 7ms/step - loss: 14.6113 - val_loss: 19.4916\n",
      "Epoch 61/100\n",
      "29/29 - 0s - 7ms/step - loss: 15.4735 - val_loss: 20.1451\n",
      "Epoch 62/100\n",
      "29/29 - 0s - 7ms/step - loss: 15.1278 - val_loss: 19.7883\n",
      "Epoch 63/100\n",
      "29/29 - 0s - 7ms/step - loss: 13.9430 - val_loss: 18.5766\n",
      "Epoch 64/100\n",
      "29/29 - 0s - 7ms/step - loss: 14.1128 - val_loss: 21.7494\n",
      "Epoch 65/100\n",
      "29/29 - 0s - 6ms/step - loss: 13.6739 - val_loss: 20.8303\n",
      "Epoch 66/100\n",
      "29/29 - 0s - 7ms/step - loss: 13.6779 - val_loss: 23.2097\n",
      "Epoch 67/100\n",
      "29/29 - 0s - 7ms/step - loss: 13.0893 - val_loss: 18.5301\n",
      "Epoch 68/100\n",
      "29/29 - 0s - 7ms/step - loss: 13.2554 - val_loss: 18.8389\n",
      "Epoch 69/100\n",
      "29/29 - 0s - 7ms/step - loss: 13.8913 - val_loss: 20.4637\n",
      "Epoch 70/100\n",
      "29/29 - 0s - 7ms/step - loss: 14.9517 - val_loss: 18.5812\n",
      "Epoch 71/100\n",
      "29/29 - 0s - 7ms/step - loss: 13.5845 - val_loss: 18.1524\n",
      "Epoch 72/100\n",
      "29/29 - 0s - 7ms/step - loss: 14.7743 - val_loss: 20.0321\n",
      "Epoch 73/100\n",
      "29/29 - 0s - 7ms/step - loss: 14.5657 - val_loss: 19.2843\n",
      "Epoch 74/100\n",
      "29/29 - 0s - 7ms/step - loss: 14.8718 - val_loss: 23.5997\n",
      "Epoch 75/100\n",
      "29/29 - 0s - 7ms/step - loss: 15.0051 - val_loss: 18.7864\n",
      "Epoch 76/100\n",
      "29/29 - 0s - 6ms/step - loss: 14.2790 - val_loss: 20.8268\n",
      "Epoch 77/100\n",
      "29/29 - 0s - 7ms/step - loss: 12.7700 - val_loss: 16.9304\n",
      "Epoch 78/100\n",
      "29/29 - 0s - 6ms/step - loss: 13.9326 - val_loss: 18.1265\n",
      "Epoch 79/100\n",
      "29/29 - 0s - 6ms/step - loss: 12.8188 - val_loss: 17.7450\n",
      "Epoch 80/100\n",
      "29/29 - 0s - 7ms/step - loss: 12.4279 - val_loss: 17.3871\n",
      "Epoch 81/100\n",
      "29/29 - 0s - 7ms/step - loss: 12.8225 - val_loss: 17.4999\n",
      "Epoch 82/100\n",
      "29/29 - 0s - 7ms/step - loss: 12.6999 - val_loss: 17.8497\n",
      "Epoch 83/100\n",
      "29/29 - 0s - 7ms/step - loss: 11.8247 - val_loss: 18.2586\n",
      "Epoch 84/100\n",
      "29/29 - 0s - 7ms/step - loss: 11.8025 - val_loss: 17.1997\n",
      "Epoch 85/100\n",
      "29/29 - 0s - 7ms/step - loss: 12.2449 - val_loss: 18.5040\n",
      "Epoch 86/100\n",
      "29/29 - 0s - 7ms/step - loss: 11.7232 - val_loss: 17.2791\n",
      "Epoch 87/100\n",
      "29/29 - 0s - 7ms/step - loss: 11.6723 - val_loss: 16.7611\n",
      "Epoch 88/100\n",
      "29/29 - 0s - 7ms/step - loss: 13.1567 - val_loss: 17.8893\n",
      "Epoch 89/100\n",
      "29/29 - 0s - 7ms/step - loss: 12.8480 - val_loss: 16.4194\n",
      "Epoch 90/100\n",
      "29/29 - 0s - 7ms/step - loss: 11.6725 - val_loss: 16.7047\n",
      "Epoch 91/100\n",
      "29/29 - 0s - 7ms/step - loss: 11.1577 - val_loss: 21.7810\n",
      "Epoch 92/100\n",
      "29/29 - 0s - 7ms/step - loss: 12.9196 - val_loss: 17.7010\n",
      "Epoch 93/100\n",
      "29/29 - 0s - 7ms/step - loss: 12.5949 - val_loss: 17.6493\n",
      "Epoch 94/100\n",
      "29/29 - 0s - 7ms/step - loss: 11.8400 - val_loss: 17.3924\n",
      "Epoch 95/100\n",
      "29/29 - 0s - 7ms/step - loss: 12.2014 - val_loss: 16.0217\n",
      "Epoch 96/100\n",
      "29/29 - 0s - 7ms/step - loss: 12.2282 - val_loss: 17.3416\n",
      "Epoch 97/100\n",
      "29/29 - 0s - 7ms/step - loss: 10.9713 - val_loss: 16.7553\n",
      "Epoch 98/100\n",
      "29/29 - 0s - 7ms/step - loss: 11.0494 - val_loss: 17.9978\n",
      "Epoch 99/100\n",
      "29/29 - 0s - 7ms/step - loss: 11.4261 - val_loss: 17.1256\n",
      "Epoch 100/100\n",
      "29/29 - 0s - 7ms/step - loss: 11.2425 - val_loss: 16.5543\n"
     ]
    },
    {
     "data": {
      "text/plain": [
       "<keras.src.callbacks.history.History at 0x7fb8b6475580>"
      ]
     },
     "execution_count": 21,
     "metadata": {},
     "output_type": "execute_result"
    }
   ],
   "source": [
    "# build the model\n",
    "model = regression_model()\n",
    "model.fit(predictors_norm, target, validation_split=0.1, epochs=100, verbose=2)\n"
   ]
  },
  {
   "cell_type": "markdown",
   "metadata": {},
   "source": [
    "Based on the results, we notice that:\n",
    "\n",
    "- Adding more hidden layers to the model increases its capacity to learn and represent complex relationships within the data. This allows the model to better identify, as a result, the model becomes more effective at fitting the training data and potentially improving its predictions.\n",
    "- By reducing the proportion of data set aside for validation and using a larger portion for training, the model has access to more examples to learn from. This additional training data helps the model improve its understanding of the underlying trends, which can lead to better overall performance.  \n"
   ]
  }
 ],
 "metadata": {
  "kernelspec": {
   "display_name": "TensorFlow 2.16.2",
   "language": "python",
   "name": "tf_env"
  },
  "language_info": {
   "codemirror_mode": {
    "name": "ipython",
    "version": 3
   },
   "file_extension": ".py",
   "mimetype": "text/x-python",
   "name": "python",
   "nbconvert_exporter": "python",
   "pygments_lexer": "ipython3",
   "version": "3.10.11"
  },
  "prev_pub_hash": "1318243f5c57a871ada11a63a887b187b71b9e224c59cc45cb9fac7ca19844fc"
 },
 "nbformat": 4,
 "nbformat_minor": 4
}
